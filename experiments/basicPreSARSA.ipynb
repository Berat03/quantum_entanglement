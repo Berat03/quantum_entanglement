{
 "cells": [
  {
   "cell_type": "code",
   "execution_count": 1,
   "metadata": {},
   "outputs": [
    {
     "name": "stdout",
     "output_type": "stream",
     "text": [
      "/Users/berat/Desktop/quantum_entanglement/.venv/bin/python\n"
     ]
    }
   ],
   "source": [
    "import pandas as pd\n",
    "import random as rd\n",
    "import numpy as np\n",
    "import copy\n",
    "import networkx as nx\n",
    "import matplotlib.pyplot as plt\n",
    "import itertools\n",
    "import collections\n",
    "from collections import deque  # Add this import\n",
    "\n",
    "!which python"
   ]
  },
  {
   "cell_type": "code",
   "execution_count": 26,
   "metadata": {},
   "outputs": [],
   "source": [
    "class QuantumNetwork:\n",
    "    def __init__(self, initialEdges, pGen, cutOffAge, maxLinks):\n",
    "        self.initialEdges = initialEdges\n",
    "        self.currentEdges = {} \n",
    "        self.pGen = pGen\n",
    "        self.cutOffAge = cutOffAge\n",
    "        self.maxLinks = maxLinks\n",
    "    \n",
    "    def reset(self):\n",
    "        self.currentEdges = {}\n",
    "    \n",
    "    def getState(self):\n",
    "        return self.currentEdges\n",
    "    \n",
    "    def generateGlobalEntanglements(self):\n",
    "        for edge in self.initialEdges:\n",
    "            if rd.random() < self.pGen:\n",
    "                self.generateLocalEntanglements(*edge)\n",
    "    \n",
    "    def generateLocalEntanglements(self, node1, node2):\n",
    "        edge = tuple(sorted([node1, node2]))\n",
    "        if edge not in self.currentEdges:\n",
    "            self.currentEdges[edge] = deque([0])\n",
    "        else:\n",
    "            if len(self.currentEdges[edge]) < self.maxLinks:\n",
    "                self.currentEdges[edge].appendleft(0) # Retain order by age\n",
    "    \n",
    "    def discardEntanglement(self, edge: tuple):\n",
    "        if edge in self.currentEdges and len(self.currentEdges[edge]) > 0: # Should never be the case that these aren't the same\n",
    "            self.currentEdges[edge].pop() # Remove oldest entanglement\n",
    "        if len(self.currentEdges[edge]) == 0:\n",
    "            del self.currentEdges[edge]\n",
    "\n",
    "    def increaseGlobalEntanglementAge(self):\n",
    "        edges_to_remove = []\n",
    "        for edge in self.currentEdges:\n",
    "            newAges = [age + 1 for age in self.currentEdges[edge] if age < self.cutOffAge]\n",
    "            self.currentEdges[edge] = deque(newAges)\n",
    "            if len(self.currentEdges[edge]) == 0:\n",
    "                edges_to_remove.append(edge)\n",
    "        # Remove edges with empty deques\n",
    "        for edge in edges_to_remove:\n",
    "            del self.currentEdges[edge]"
   ]
  },
  {
   "cell_type": "code",
   "execution_count": 95,
   "metadata": {},
   "outputs": [],
   "source": [
    "class WaitingNetwork(QuantumNetwork):\n",
    "    def __init__(self, initialEdges, pGen, cutOffAge, maxLinks, goalStates):\n",
    "        super().__init__(initialEdges, pGen, cutOffAge, maxLinks)\n",
    "        self.goalStates = goalStates\n",
    "\n",
    "    def isTerminal(self, desiredStates=None):\n",
    "        # Create an undirected graph from current edges to check connectivity\n",
    "        G = nx.Graph()\n",
    "        G.add_edges_from(self.currentEdges)\n",
    "        \n",
    "        # Use desiredState if provided, otherwise use self.goalState\n",
    "        states_to_check = desiredStates if desiredStates is not None else self.goalStates\n",
    "        \n",
    "        # For each desired connection in states_to_check\n",
    "        for start, end in states_to_check:\n",
    "            # Check if there's a path between start and end nodes\n",
    "            if not nx.has_path(G, start, end):\n",
    "                return False\n",
    "        \n",
    "        # If we can reach all desired connections, return True\n",
    "        return True\n",
    "\n",
    "    def chooseAction(self):\n",
    "        pass\n",
    "        \n",
    "\n",
    "    def drawState(self):\n",
    "        plt.clf()  # Clear the current figure, else they overlap\n",
    "        G = nx.Graph()\n",
    "        \n",
    "        # Add all nodes from initial edges\n",
    "        nodes = set()\n",
    "        for edge in self.initialEdges:\n",
    "            nodes.add(edge[0])\n",
    "            nodes.add(edge[1])\n",
    "        G.add_nodes_from(nodes)\n",
    "        G.add_edges_from(self.initialEdges)\n",
    "        \n",
    "        pos = nx.spring_layout(G, seed=27) # different from random seed\n",
    "        \n",
    "        # pos = nx.shell_layout(G)\n",
    "        # pos = nx.circular_layout(G)\n",
    "        \n",
    "        # Draw initial edges (potential connections) in grey dashed lines\n",
    "        nx.draw_networkx_edges(G, pos=pos, \n",
    "                            edgelist=self.initialEdges,\n",
    "                            edge_color='grey',\n",
    "                            style='dashed',\n",
    "                            alpha=0.5)\n",
    "        \n",
    "        # Draw current entanglements in blue solid lines\n",
    "        nx.draw_networkx_edges(G, pos=pos,\n",
    "                            edgelist=self.currentEdges.keys(),\n",
    "                            edge_color='blue',\n",
    "                            width=2)\n",
    "        \n",
    "        # Draw nodes\n",
    "        nx.draw_networkx_nodes(G, pos=pos, node_color='lightblue')\n",
    "        nx.draw_networkx_labels(G, pos=pos)\n",
    "        \n",
    "        # Add edge labels for number of entanglements (will always be one in this case)\n",
    "        edge_labels = {edge: len(ages) for edge, ages in self.currentEdges.items()}\n",
    "        nx.draw_networkx_edge_labels(G, pos=pos, edge_labels=edge_labels)"
   ]
  },
  {
   "cell_type": "code",
   "execution_count": 101,
   "metadata": {},
   "outputs": [
    {
     "name": "stdout",
     "output_type": "stream",
     "text": [
      "None\n",
      "False\n"
     ]
    },
    {
     "data": {
      "image/png": "[encoded data removed]",
      "text/plain": [
       "<Figure size 640x480 with 1 Axes>"
      ]
     },
     "metadata": {},
     "output_type": "display_data"
    }
   ],
   "source": [
    "initialEdges = [(1,3), (2,3), (3,4), (4,5), (4,6)]\n",
    "goalStates = [(1, 5)]\n",
    "pGen = 0.8\n",
    "cutOffAge = 1 # For this basic example\n",
    "maxLinks = 1 # For this basic example\n",
    "rd.seed(27)\n",
    "network = WaitingNetwork(initialEdges, pGen, cutOffAge, maxLinks, goalStates)\n",
    "network.getState()\n",
    "network.generateGlobalEntanglements()\n",
    "\n",
    "print(network.drawState())\n",
    "print(network.isTerminal())"
   ]
  }
 ],
 "metadata": {
  "kernelspec": {
   "display_name": ".venv",
   "language": "python",
   "name": "python3"
  },
  "language_info": {
   "codemirror_mode": {
    "name": "ipython",
    "version": 3
   },
   "file_extension": ".py",
   "mimetype": "text/x-python",
   "name": "python",
   "nbconvert_exporter": "python",
   "pygments_lexer": "ipython3",
   "version": "3.13.1"
  }
 },
 "nbformat": 4,
 "nbformat_minor": 2
}
