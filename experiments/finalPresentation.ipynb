{
 "cells": [
  {
   "cell_type": "code",
   "execution_count": 20,
   "metadata": {},
   "outputs": [],
   "source": [
    "import pandas as pd\n",
    "import random\n",
    "import numpy as np\n",
    "import copy\n",
    "import networkx as nx\n",
    "import matplotlib.pyplot as plt\n",
    "import itertools\n",
    "import collections\n",
    "from collections import deque "
   ]
  },
  {
   "cell_type": "code",
   "execution_count": 78,
   "metadata": {},
   "outputs": [],
   "source": [
    "class QuantumNetworks():\n",
    "    def __init__(self, pGen, pSwap, cutOffAge, maxQubits, initialEdges):\n",
    "        self.pGen = pGen\n",
    "        self.pSwap = pSwap\n",
    "        self.cutOffAge = cutOffAge\n",
    "        self.maxQubits = maxQubits\n",
    "        self.initialEdges = initialEdges\n",
    "        self.currentEdges = {}\n",
    "\n",
    "    def __generateEntanglement(self, node1, node2):\n",
    "        edge = tuple(sorted([node1, node2]))\n",
    "        # Count current entanglements for each node\n",
    "        node1_count = sum(len(links) for e, links in self.currentEdges.items() if node1 in e)\n",
    "        node2_count = sum(len(links) for e, links in self.currentEdges.items() if node2 in e)\n",
    "        \n",
    "        if node1_count < self.maxQubits and node2_count < self.maxQubits:\n",
    "            if edge not in self.currentEdges:\n",
    "                self.currentEdges[edge] = deque([0])\n",
    "            else:\n",
    "                self.currentEdges[edge].appendleft(0)\n",
    "        else:\n",
    "            print(f\"Node {node1} or {node2} has reached the maximum number of entanglements.\")\n",
    "\n",
    "    def randomlyGenerateEntanglementsGlobally(self):\n",
    "        for edge in self.initialEdges:\n",
    "            if random.random() < self.pGen:\n",
    "                self.__generateEntanglement(*edge)\n",
    "                \n",
    "    def __discardEntanglement(self, edge):\n",
    "        if edge in self.currentEdges and len(self.currentEdges[edge]) > 0:\n",
    "            self.currentEdges[edge].pop()  # Remove oldest entanglement\n",
    "            \n",
    "        if not self.currentEdges[edge]:  # If no more entanglements\n",
    "            del self.currentEdges[edge]\n",
    "\n",
    "    def performEntanglementSwaping(self, edge1, edge2):\n",
    "        # Check if edges share a common node and have available entanglements\n",
    "        if (edge1 in self.currentEdges and edge2 in self.currentEdges and \n",
    "            len(self.currentEdges[edge1]) > 0 and len(self.currentEdges[edge2]) > 0):\n",
    "            \n",
    "            # Find the common node and outer nodes\n",
    "            common_nodes = set(edge1) & set(edge2)\n",
    "            if len(common_nodes) != 1:\n",
    "                return  # Edges must share exactly one common node\n",
    "            \n",
    "            all_nodes = list(set(edge1) | set(edge2))\n",
    "            outer_nodes = [node for node in all_nodes if node not in common_nodes]\n",
    "            new_edge = tuple(sorted(outer_nodes))\n",
    "            \n",
    "            # Attempt swapping with probability pSwap\n",
    "            if random.random() < self.pSwap:\n",
    "                # Store ages before discarding\n",
    "                age1 = self.currentEdges[edge1][0]\n",
    "                age2 = self.currentEdges[edge2][0]\n",
    "                \n",
    "                # Discard entanglements from input edges\n",
    "                self.__discardEntanglement(edge1)\n",
    "                self.__discardEntanglement(edge2)\n",
    "                \n",
    "                # Create or add entanglement to the new edge with max age\n",
    "                new_age = max(age1, age2)\n",
    "                if new_edge not in self.currentEdges:\n",
    "                    self.currentEdges[new_edge] = deque([new_age])\n",
    "                else:\n",
    "                    # Add new age while maintaining ascending order\n",
    "                    ages = list(self.currentEdges[new_edge])\n",
    "                    ages.append(new_age)\n",
    "                    ages.sort()\n",
    "                    self.currentEdges[new_edge] = deque(ages)\n",
    "        else:\n",
    "            print(f\"No entanglement found for edges {edge1} and {edge2}\")"
   ]
  },
  {
   "cell_type": "code",
   "execution_count": 79,
   "metadata": {},
   "outputs": [
    {
     "name": "stdout",
     "output_type": "stream",
     "text": [
      "{(0, 1): deque([0]), (1, 2): deque([0]), (2, 3): deque([0])}\n",
      "{(0, 1): deque([0]), (1, 3): deque([0])}\n"
     ]
    }
   ],
   "source": [
    "initialEdges = [(0, 1), (1, 2), (2, 3)]\n",
    "network = QuantumNetworks(pGen=0.5, pSwap=1, cutOffAge=1, maxQubits=3, initialEdges=initialEdges)\n",
    "network.randomlyGenerateEntanglementsGlobally()\n",
    "network.randomlyGenerateEntanglementsGlobally()\n",
    "print(network.currentEdges)\n",
    "network.performEntanglementSwaping((2,3), (1, 2))\n",
    "print(network.currentEdges)"
   ]
  }
 ],
 "metadata": {
  "kernelspec": {
   "display_name": ".venv",
   "language": "python",
   "name": "python3"
  },
  "language_info": {
   "codemirror_mode": {
    "name": "ipython",
    "version": 3
   },
   "file_extension": ".py",
   "mimetype": "text/x-python",
   "name": "python",
   "nbconvert_exporter": "python",
   "pygments_lexer": "ipython3",
   "version": "3.13.1"
  }
 },
 "nbformat": 4,
 "nbformat_minor": 2
}
