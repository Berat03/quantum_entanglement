{
 "cells": [
  {
   "cell_type": "code",
   "execution_count": 84,
   "metadata": {},
   "outputs": [],
   "source": [
    "import numpy as np\n",
    "import pandas as pd\n",
    "import random"
   ]
  },
  {
   "cell_type": "code",
   "execution_count": 93,
   "metadata": {},
   "outputs": [],
   "source": [
    "class QuantumNetwork:\n",
    "    def __init__(self, cutOffAge, hardLinks, pGen):\n",
    "        self.cutOffAge = cutOffAge\n",
    "        self.hardLinks = hardLinks\n",
    "        self.pGen = pGen\n",
    "        self.numNodes = len(hardLinks)\n",
    "        # Calculate maxQubits for each node based on number of hard links\n",
    "        self.maxQubits = {}\n",
    "        for i in range(self.numNodes):\n",
    "            # Count number of connections for each node\n",
    "            links_count = len(hardLinks[i])\n",
    "            self.maxQubits[i] = links_count\n",
    "            \n",
    "        # Initialize with empty lists\n",
    "        self.currentLinks = {i: [] for i in range(self.numNodes)}\n",
    "    \n",
    "    def generateEntanglement(self, node1, node2):\n",
    "        # Check for valid conneciton\n",
    "        node1_connections = [n for n, _ in self.hardLinks[node1]]\n",
    "        node2_connections = [n for n, _ in self.hardLinks[node2]]\n",
    "        if node2 not in node1_connections and node1 not in node2_connections:\n",
    "            print(\"No hard link between the nodes\")\n",
    "            return \n",
    "        \n",
    "        # Check if either node has reached its specific maxQubits\n",
    "        if (len(self.currentLinks[node1]) < self.maxQubits[node1] and \n",
    "            len(self.currentLinks[node2]) < self.maxQubits[node2]):\n",
    "            # Add new entanglement to both nodes with age 0\n",
    "            self.currentLinks[node1].append((node2, 0))\n",
    "            self.currentLinks[node2].append((node1, 0))\n",
    "            return \n",
    "        print(\"Node has reached max qubits\")\n",
    "        return\n",
    "    \n",
    "    def generateEntanglementForAllHardLinks(self):\n",
    "        for node1 in self.hardLinks:\n",
    "            for node2, self.pGen in self.hardLinks[node1]:\n",
    "                while (len(self.currentLinks[node1]) < self.maxQubits[node1] and \n",
    "                       len(self.currentLinks[node2]) < self.maxQubits[node2]):\n",
    "                    if np.random.random() < self.pGen:\n",
    "                        self.generateEntanglement(node1, node2)\n"
   ]
  },
  {
   "cell_type": "code",
   "execution_count": 94,
   "metadata": {},
   "outputs": [
    {
     "ename": "KeyboardInterrupt",
     "evalue": "",
     "output_type": "error",
     "traceback": [
      "\u001b[0;31m---------------------------------------------------------------------------\u001b[0m",
      "\u001b[0;31mKeyboardInterrupt\u001b[0m                         Traceback (most recent call last)",
      "Cell \u001b[0;32mIn[94], line 9\u001b[0m\n\u001b[1;32m      7\u001b[0m \u001b[38;5;66;03m# Identical edges don't need to be differenciated in the list!\u001b[39;00m\n\u001b[1;32m      8\u001b[0m network \u001b[38;5;241m=\u001b[39m QuantumNetwork(cutOffAge\u001b[38;5;241m=\u001b[39m\u001b[38;5;241m1\u001b[39m, hardLinks\u001b[38;5;241m=\u001b[39mhardLinks, pGen\u001b[38;5;241m=\u001b[39m\u001b[38;5;241m0.8\u001b[39m)\n\u001b[0;32m----> 9\u001b[0m \u001b[43mnetwork\u001b[49m\u001b[38;5;241;43m.\u001b[39;49m\u001b[43mgenerateEntanglementForAllHardLinks\u001b[49m\u001b[43m(\u001b[49m\u001b[43m)\u001b[49m\n\u001b[1;32m     11\u001b[0m network\u001b[38;5;241m.\u001b[39mcurrentLinks\n",
      "Cell \u001b[0;32mIn[93], line 48\u001b[0m, in \u001b[0;36mQuantumNetwork.generateEntanglementForAllHardLinks\u001b[0;34m(self)\u001b[0m\n\u001b[1;32m     45\u001b[0m     \u001b[38;5;28;01mcontinue\u001b[39;00m\n\u001b[1;32m     47\u001b[0m \u001b[38;5;66;03m# Generate random number and compare with success probability\u001b[39;00m\n\u001b[0;32m---> 48\u001b[0m \u001b[38;5;28;01mif\u001b[39;00m \u001b[43mnp\u001b[49m\u001b[38;5;241;43m.\u001b[39;49m\u001b[43mrandom\u001b[49m\u001b[38;5;241;43m.\u001b[39;49m\u001b[43mrandom\u001b[49m\u001b[43m(\u001b[49m\u001b[43m)\u001b[49m \u001b[38;5;241m<\u001b[39m p_gen:\n\u001b[1;32m     49\u001b[0m     \u001b[38;5;28mself\u001b[39m\u001b[38;5;241m.\u001b[39mgenerateEntanglement(node1, node2)\n\u001b[1;32m     50\u001b[0m     \u001b[38;5;66;03m# Check if generation was successful\u001b[39;00m\n",
      "\u001b[0;31mKeyboardInterrupt\u001b[0m: "
     ]
    }
   ],
   "source": [
    "hardLinks = {\n",
    "    0: [(2,0)],\n",
    "    1: [(2,0)],\n",
    "    2: [(0,0), (3,0)],  # removed duplicate (1,0) and added connection to 3\n",
    "    3: [(2,0)]\n",
    "}\n",
    "# Identical edges don't need to be differenciated in the list!\n",
    "network = QuantumNetwork(cutOffAge=1, hardLinks=hardLinks, pGen=0.8)\n",
    "network.generateEntanglementForAllHardLinks()\n",
    "\n",
    "network.currentLinks"
   ]
  }
 ],
 "metadata": {
  "kernelspec": {
   "display_name": ".venv",
   "language": "python",
   "name": "python3"
  },
  "language_info": {
   "codemirror_mode": {
    "name": "ipython",
    "version": 3
   },
   "file_extension": ".py",
   "mimetype": "text/x-python",
   "name": "python",
   "nbconvert_exporter": "python",
   "pygments_lexer": "ipython3",
   "version": "3.13.1"
  }
 },
 "nbformat": 4,
 "nbformat_minor": 2
}
