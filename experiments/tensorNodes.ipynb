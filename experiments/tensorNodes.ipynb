{
 "cells": [
  {
   "cell_type": "code",
   "execution_count": 28,
   "metadata": {},
   "outputs": [],
   "source": [
    "import numpy as np\n"
   ]
  },
  {
   "cell_type": "code",
   "execution_count": 44,
   "metadata": {},
   "outputs": [],
   "source": [
    "class QuantumNetworkTensor:\n",
    "    def __init__(self, nodes, maxQubits, hardLinks, cutoffAge):\n",
    "        self.nodes = nodes\n",
    "        self.maxQubits = maxQubits\n",
    "        self.hardLinks = hardLinks\n",
    "        self.cutoffAge = cutoffAge\n",
    "        self.currentLinks = None\n",
    "\n",
    "    def createEmptyHardLinksTensor(self):\n",
    "        tensor = np.full((self.nodes, self.nodes, self.maxQubits), 0)\n",
    "        \n",
    "        for source, targets in self.hardLinks.items():\n",
    "            for target in targets:\n",
    "                s, t = source, target\n",
    "                idx = 0\n",
    "                while idx < self.maxQubits and tensor[s, t, idx]:\n",
    "                    idx += 1\n",
    "                if idx < self.maxQubits:\n",
    "                    tensor[s, t, idx] = 1\n",
    "                    tensor[t, s, idx] = 1\n",
    "        self.hardLinksTensor = tensor    \n",
    "    \n",
    "    def resetCurrentLinks(self):\n",
    "        self.currentLinks = np.full((self.nodes, self.nodes, self.maxQubits), 0)\n",
    "        \n",
    "    def generateEntanglement(self, node1, node2):\n",
    "        # Check if there's a hard link between the nodes\n",
    "        if not self.hardLinksTensor[node1, node2, :].any():\n",
    "            print(\"No hard link between the nodes\")\n",
    "            return False\n",
    "        \n",
    "        # Find first available qubit slot in current links\n",
    "        for idx in range(self.maxQubits):\n",
    "            if not self.currentLinks[node1, node2, idx]:\n",
    "                self.currentLinks[node1, node2, idx] = 0\n",
    "                self.currentLinks[node2, node1, idx] = 0\n",
    "                return True\n",
    "        print(\"No available qubit slots\")\n",
    "        return False  # No available qubit slots\n",
    "    \n",
    "    def ageAndDiscardEntanglements(self):\n",
    "        # Age all entanglement slots by 1 and remove any that have reached cutoffAge\n",
    "        for i in range(self.nodes):\n",
    "            for j in range(i + 1, self.nodes):  # Only iterate through upper triangle\n",
    "                for k in range(self.maxQubits):\n",
    "                    if self.currentLinks[i, j, k] > 0:  # If there's an active entanglement\n",
    "                        self.currentLinks[i, j, k] += 1  # Age it by 1\n",
    "                        self.currentLinks[j, i, k] += 1  # Mirror the aging\n",
    "                        # If it reached cutoff age, remove it\n",
    "                        if self.currentLinks[i, j, k] >= self.cutoffAge:\n",
    "                            self.currentLinks[i, j, k] = 0\n",
    "                            self.currentLinks[j, i, k] = 0\n",
    "    \n"
   ]
  },
  {
   "cell_type": "code",
   "execution_count": 43,
   "metadata": {},
   "outputs": [
    {
     "name": "stdout",
     "output_type": "stream",
     "text": [
      "No available qubit slots\n",
      "done\n"
     ]
    }
   ],
   "source": [
    "# Example hard links:\n",
    "hardLinks = {\n",
    "    0: [2],\n",
    "    1: [2,],\n",
    "    2: [0, 1]\n",
    "}\n",
    "\n",
    "myNetwork = QuantumNetworkTensor(nodes=3, maxQubits=2, hardLinks=hardLinks)\n",
    "myNetwork.createEmptyHardLinksTensor()\n",
    "myNetwork.resetCurrentLinks()\n",
    "myNetwork.generateEntanglement(0, 2)\n",
    "myNetwork.generateEntanglement(0, 2)\n",
    "myNetwork.generateEntanglement(0, 2)\n",
    "print('done')"
   ]
  }
 ],
 "metadata": {
  "kernelspec": {
   "display_name": ".venv",
   "language": "python",
   "name": "python3"
  },
  "language_info": {
   "codemirror_mode": {
    "name": "ipython",
    "version": 3
   },
   "file_extension": ".py",
   "mimetype": "text/x-python",
   "name": "python",
   "nbconvert_exporter": "python",
   "pygments_lexer": "ipython3",
   "version": "3.13.1"
  }
 },
 "nbformat": 4,
 "nbformat_minor": 2
}
