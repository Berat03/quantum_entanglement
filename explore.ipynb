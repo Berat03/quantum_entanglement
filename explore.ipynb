{
 "cells": [
  {
   "cell_type": "code",
   "execution_count": 2,
   "metadata": {},
   "outputs": [],
   "source": [
    "import pandas as pd\n",
    "import random\n",
    "import numpy as np\n",
    "import copy"
   ]
  },
  {
   "cell_type": "code",
   "execution_count": null,
   "metadata": {},
   "outputs": [],
   "source": [
    "# Parameters (constants)\n",
    "numEpisodes = 1000\n",
    "nStep = 2\n",
    "discountFactor = 0.9 # TODO: Check if this is a suitable value.\n",
    "cutOffAge = 4 \n",
    "pSwap = 1\n",
    "pGen= 0.8\n",
    "\n",
    "# initialEdges; {tuple(int, int): None | int}\n",
    "    # int value represents entangelments Age\n",
    "initialEdges = { \n",
    "    (1,3): None,\n",
    "    (2,3): None,\n",
    "    (3,4): None,\n",
    "    (4,5): None,\n",
    "    (4,6): None\n",
    "} # Cleaner solution than using a node adjacency matrix, as problem is focused on LLEs (Link Level Entanglements)"
   ]
  },
  {
   "cell_type": "code",
   "execution_count": 4,
   "metadata": {},
   "outputs": [
    {
     "ename": "_IncompleteInputError",
     "evalue": "incomplete input (2249168929.py, line 31)",
     "output_type": "error",
     "traceback": [
      "\u001b[0;36m  Cell \u001b[0;32mIn[4], line 31\u001b[0;36m\u001b[0m\n\u001b[0;31m    \u001b[0m\n\u001b[0m    ^\u001b[0m\n\u001b[0;31m_IncompleteInputError\u001b[0m\u001b[0;31m:\u001b[0m incomplete input\n"
     ]
    }
   ],
   "source": [
    "# TODO: Implement typing (not just type hints), python abc? pydantic? c++?\n",
    "class QuantumNetwork():\n",
    "    def __init__(self, initialEdges, pGen, pSwap, cutOffAge):\n",
    "        self.initialEdges = initialEdges\n",
    "        self.currentEdges = copy.deepcopy(initialEdges)\n",
    "        self.pGen = p_gen\n",
    "        self.pSwap = p_swap\n",
    "        self.cutOffAge = cutOffAge\n",
    "    \n",
    "    def reset(self):\n",
    "        self.currentEdges = copy.deepcopy(self.initialEdges)\n",
    "        return self.currentEdges\n",
    "        \n",
    "    def increaseAgeDiscardOld(self):\n",
    "       for edge in self.currentEdges:\n",
    "        if self.currentEdges[edge] is not None:\n",
    "            self.currentEdges[edge]  += 1\n",
    "        if self.currentEdges[edge] >= self.cutOffAge: # Should be the only time we consider the age (?)\n",
    "            self.discardEntanglement(edge)\n",
    "\n",
    "    def discardEntanglement(self, edge):\n",
    "        if edge in self.initialEdges:\n",
    "           self.currentEdges[edge] = None\n",
    "        else:\n",
    "            del self.currentEdges[edge]\n",
    "                        \n",
    "    def attemptEntanglementGeneration(self):\n",
    "        for edge in self.currentEdges:\n",
    "            if self.currentEdges[edge] is None and not(edge in self.initialEdges): \n",
    "                print(\"A non-original edge has a value of None... this shouldn't be possible, so ill need to fix if so\")\n",
    "            if self.currentEdges[edge] is None and edge in self.initialEdges: \n",
    "                if random.random() <= self.pGen: # < or <= ??????????\n",
    "                    self.currentEdges[edge] = 0\n",
    "                    \n",
    "    def performSwapping(self, edge1, edge2):\n",
    "            combinedNodes = list(edge1) + list(edge2)\n",
    "            newNodeLink = sorted([value for value in combinedNodes if combinedNodes.count(value) == 1])\n",
    "            newLink = tuple(newNodeLink[0], newNodeLink[1])\n",
    "            newAge = max(self.initialEdges[edge1], self.initialEdges[edge2])\n",
    "            \n",
    "            self.currentEdges[newLink] = newAge\n",
    "            self.discardEntanglement(edge1)\n",
    "            self.discardEntanglement(edge2)\n",
    "    \n",
    "    def attemptSwapping(self, edge1, edge2):\n",
    "        if random.random() <= self.pSwap: \n",
    "            self.performSwapping(edge1, edge2)\n",
    "        else:\n",
    "            print('I don\\'t THINK that I need to return something here')\n",
    "\n",
    "        "
   ]
  },
  {
   "cell_type": "code",
   "execution_count": null,
   "metadata": {},
   "outputs": [],
   "source": [
    "for _ in range(numEpisodes):\n",
    "    "
   ]
  }
 ],
 "metadata": {
  "kernelspec": {
   "display_name": ".venv",
   "language": "python",
   "name": "python3"
  },
  "language_info": {
   "codemirror_mode": {
    "name": "ipython",
    "version": 3
   },
   "file_extension": ".py",
   "mimetype": "text/x-python",
   "name": "python",
   "nbconvert_exporter": "python",
   "pygments_lexer": "ipython3",
   "version": "3.13.1"
  }
 },
 "nbformat": 4,
 "nbformat_minor": 2
}
