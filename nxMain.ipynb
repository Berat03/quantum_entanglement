{
 "cells": [
  {
   "cell_type": "code",
   "execution_count": 1,
   "metadata": {},
   "outputs": [
    {
     "name": "stdout",
     "output_type": "stream",
     "text": [
      "/Users/berat/Desktop/quantum_entanglement/.venv/bin/python\n"
     ]
    }
   ],
   "source": [
    "import pandas as pd\n",
    "import random as rd\n",
    "import numpy as np\n",
    "import copy\n",
    "import networkx as nx\n",
    "import matplotlib.pyplot as plt\n",
    "import itertools\n",
    "import collections\n",
    "from collections import deque  # Add this import\n",
    "\n",
    "!which python\n",
    "\n"
   ]
  },
  {
   "cell_type": "code",
   "execution_count": 15,
   "metadata": {},
   "outputs": [],
   "source": [
    "import pandas as pd\n",
    "import random as rd\n",
    "import numpy as np\n",
    "import copy\n",
    "import networkx as nx\n",
    "import matplotlib.pyplot as plt\n",
    "import itertools\n",
    "import collections\n",
    "from collections import deque\n",
    "\n",
    "class QuantumNetwork:\n",
    "    def __init__(self, initialEdges, pGen, cutOffAge, maxLinks):\n",
    "        self.initialEdges = initialEdges\n",
    "        self.pGen = pGen\n",
    "        self.cutOffAge = cutOffAge\n",
    "        self.maxLinks = maxLinks\n",
    "        \n",
    "        self.G = nx.Graph()\n",
    "        nodes = set()\n",
    "        for edge in self.initialEdges:\n",
    "            nodes.add(edge[0])\n",
    "            nodes.add(edge[1])\n",
    "        self.G.add_nodes_from(nodes)\n",
    "\n",
    "    \n",
    "    def reset(self):\n",
    "        self.G = nx.Graph()\n",
    "        nodes = set()\n",
    "        for edge in self.initialEdges:\n",
    "            nodes.add(edge[0])\n",
    "            nodes.add(edge[1])\n",
    "        self.G.add_nodes_from(nodes)\n",
    "    \n",
    "    def getState(self):\n",
    "        # Create a dictionary of edge information\n",
    "        edge_info = {}\n",
    "        for edge in self.G.edges():\n",
    "            edge_info[edge] = list(self.G.edges[edge]['entanglements']) \n",
    "        return edge_info\n",
    "    \n",
    "    def generateGlobalEntanglements(self):\n",
    "        for edge in self.initialEdges:\n",
    "            if rd.random() < self.pGen:\n",
    "                self.generateLocalEntanglements(*edge)\n",
    "    \n",
    "    def generateLocalEntanglements(self, node1, node2):\n",
    "        edge = tuple(sorted([node1, node2]))\n",
    "        if not self.G.has_edge(*edge):\n",
    "            self.G.add_edge(*edge, entanglements=deque([0]))\n",
    "        else:\n",
    "            if len(self.G.edges[edge]['entanglements']) < self.maxLinks:\n",
    "                self.G.edges[edge]['entanglements'].appendleft(0)\n",
    "    \n",
    "    def discardEntanglement(self, edge: tuple):\n",
    "        if self.G.has_edge(*edge):\n",
    "            if len(self.G.edges[edge]['entanglements']) > 0:\n",
    "                self.G.edges[edge]['entanglements'].pop()\n",
    "            if len(self.G.edges[edge]['entanglements']) == 0:\n",
    "                self.G.remove_edge(*edge)\n",
    "\n",
    "    def increaseGlobalEntanglementAge(self):\n",
    "        edges_to_remove = []\n",
    "        for edge in list(self.G.edges()):\n",
    "            newAges = [age + 1 for age in self.G.edges[edge]['entanglements'] if age < self.cutOffAge]\n",
    "            self.G.edges[edge]['entanglements'] = deque(newAges)\n",
    "            if len(self.G.edges[edge]['entanglements']) == 0:\n",
    "                edges_to_remove.append(edge)\n",
    "        for edge in edges_to_remove:\n",
    "            self.G.remove_edge(*edge)\n",
    "\n",
    "class WaitingNetwork(QuantumNetwork):\n",
    "    def __init__(self, initialEdges, pGen, cutOffAge, maxLinks, goalStates, weights):\n",
    "        super().__init__(initialEdges, pGen, cutOffAge, maxLinks)\n",
    "        self.goalStates = goalStates\n",
    "        self.weights = weights\n",
    "        self.total_iterations = 0\n",
    "        self.success_counts = {str(goal): 0 for goal in goalStates}\n",
    "    \n",
    "    def isTerminal(self, desiredStates=None):\n",
    "        states_to_check = desiredStates if desiredStates is not None else self.goalStates\n",
    "        \n",
    "        for start, end in states_to_check:\n",
    "            if not nx.has_path(self.G, start, end):\n",
    "                return False\n",
    "        return True\n",
    "    \n",
    "    def getReward(self):\n",
    "        self.total_iterations += 1\n",
    "        reward = 0\n",
    "        \n",
    "        # Check each goal state\n",
    "        for i, goal in enumerate(self.goalStates):\n",
    "            if nx.has_path(self.G, goal[0], goal[1]):\n",
    "                # Update success count for this goal\n",
    "                self.success_counts[str(goal)] += 1\n",
    "                \n",
    "                # Calculate EDR (success rate) for this goal\n",
    "                edr = self.success_counts[str(goal)] / self.total_iterations\n",
    "                \n",
    "                # Calculate reward component: (p^2 / edr) * weight\n",
    "                reward_component = (self.pGen ** 2) / max(edr, 1e-10)  # Avoid division by zero\n",
    "                reward += reward_component * self.weights[i]\n",
    "        \n",
    "        return reward\n",
    "\n",
    "    def drawState(self):\n",
    "        plt.clf()\n",
    "        \n",
    "        G_viz = self.G.copy()\n",
    "        G_viz.add_edges_from(self.initialEdges)\n",
    "        \n",
    "        pos = nx.spring_layout(G_viz, seed=27)\n",
    "        \n",
    "        # Draw initial edges (potential connections) in grey dashed lines\n",
    "        nx.draw_networkx_edges(G_viz, pos=pos, \n",
    "                            edgelist=self.initialEdges,\n",
    "                            edge_color='grey',\n",
    "                            style='dashed',\n",
    "                            alpha=0.5)\n",
    "        \n",
    "        # Draw current entanglements in blue solid lines\n",
    "        nx.draw_networkx_edges(G_viz, pos=pos,\n",
    "                            edgelist=self.G.edges(),\n",
    "                            edge_color='blue',\n",
    "                            width=2)\n",
    "        \n",
    "        # Draw nodes\n",
    "        nx.draw_networkx_nodes(G_viz, pos=pos, node_color='lightblue')\n",
    "        nx.draw_networkx_labels(G_viz, pos=pos)\n",
    "        \n",
    "        # Add edge labels for number of entanglements\n",
    "        edge_labels = {edge: len(self.G.edges[edge]['entanglements']) \n",
    "                      for edge in self.G.edges()}\n",
    "        nx.draw_networkx_edge_labels(G_viz, pos=pos, edge_labels=edge_labels)\n",
    "        plt.show()"
   ]
  },
  {
   "cell_type": "code",
   "execution_count": 22,
   "metadata": {},
   "outputs": [
    {
     "data": {
      "image/png": "[encoded data removed]",
      "text/plain": [
       "<Figure size 640x480 with 1 Axes>"
      ]
     },
     "metadata": {},
     "output_type": "display_data"
    },
    {
     "name": "stdout",
     "output_type": "stream",
     "text": [
      "None\n",
      "Is Terminal: True\n"
     ]
    },
    {
     "data": {
      "text/plain": [
       "0.6400000000000001"
      ]
     },
     "execution_count": 22,
     "metadata": {},
     "output_type": "execute_result"
    }
   ],
   "source": [
    "initialEdges = [(1,3), (2,3), (3,4), (4,5), (4,6)]\n",
    "goalStates = [(1, 5), (2, 6)]\n",
    "pGen = 0.8\n",
    "cutOffAge = 1\n",
    "maxLinks = 2\n",
    "weights = [0.7, 0.3]\n",
    "rd.seed(27)\n",
    "\n",
    "network = WaitingNetwork(initialEdges, pGen, cutOffAge, maxLinks, goalStates, weights)\n",
    "network.getState()\n",
    "network.generateGlobalEntanglements()\n",
    "network.generateGlobalEntanglements()\n",
    "print(network.drawState())\n",
    "print(f\"Is Terminal: {network.isTerminal()}\")\n",
    "network.getState()\n",
    "network.getReward()\n"
   ]
  }
 ],
 "metadata": {
  "kernelspec": {
   "display_name": ".venv",
   "language": "python",
   "name": "python3"
  },
  "language_info": {
   "codemirror_mode": {
    "name": "ipython",
    "version": 3
   },
   "file_extension": ".py",
   "mimetype": "text/x-python",
   "name": "python",
   "nbconvert_exporter": "python",
   "pygments_lexer": "ipython3",
   "version": "3.13.1"
  }
 },
 "nbformat": 4,
 "nbformat_minor": 2
}
